{
 "cells": [
  {
   "cell_type": "code",
   "execution_count": 1,
   "metadata": {},
   "outputs": [],
   "source": [
    "import math\n",
    "import warnings\n",
    "\n",
    "from matplotlib import pyplot as plt\n",
    "import numpy as np\n",
    "import pandas as pd\n",
    "import seaborn as sns\n",
    "import scipy\n",
    "import statsmodels.formula.api as smf\n",
    "from statsmodels.sandbox.regression.predstd import wls_prediction_std\n",
    "from sklearn.model_selection import train_test_split\n",
    "\n",
    "%matplotlib inline\n",
    "sns.set_style('white')\n",
    "\n",
    "# Display preferences.\n",
    "pd.options.display.float_format = '{:.3f}'.format\n",
    "\n",
    "\n",
    "# Suppress annoying harmless error.\n",
    "warnings.filterwarnings(\n",
    "    action=\"ignore\",\n",
    "    module=\"scipy\",\n",
    "    message=\"^internal gelsd\"\n",
    ")"
   ]
  },
  {
   "cell_type": "code",
   "execution_count": 2,
   "metadata": {},
   "outputs": [],
   "source": [
    "nycrime = pd.read_csv('./NEW_YORK-Offenses_Known_to_Law_Enforcement_by_City_2013 - 13tbl8ny.csv',thousands=',')\n",
    "nycrime_valid = pd.read_csv('./Table_8_Offenses_Known_to_Law_Enforcement_by_New_York_by_City_2014.csv',thousands=',')"
   ]
  },
  {
   "cell_type": "code",
   "execution_count": 3,
   "metadata": {},
   "outputs": [],
   "source": [
    "nycrime_df = nycrime[['Propertycrime','Population','Murder','Robbery']]\n",
    "nycrime_valid_df = nycrime_valid[['Propertycrime','Population','Murder','Robbery']]"
   ]
  },
  {
   "cell_type": "code",
   "execution_count": 4,
   "metadata": {},
   "outputs": [],
   "source": [
    "nycrime_df = nycrime_df.astype(float)\n",
    "nycrime_valid_df = nycrime_valid_df.astype(float)"
   ]
  },
  {
   "cell_type": "code",
   "execution_count": 5,
   "metadata": {},
   "outputs": [
    {
     "data": {
      "text/plain": [
       "Propertycrime    float64\n",
       "Population       float64\n",
       "Murder           float64\n",
       "Robbery          float64\n",
       "dtype: object"
      ]
     },
     "execution_count": 5,
     "metadata": {},
     "output_type": "execute_result"
    }
   ],
   "source": [
    "nycrime_valid_df.dtypes"
   ]
  },
  {
   "cell_type": "code",
   "execution_count": 6,
   "metadata": {},
   "outputs": [
    {
     "data": {
      "text/html": [
       "<div>\n",
       "<style scoped>\n",
       "    .dataframe tbody tr th:only-of-type {\n",
       "        vertical-align: middle;\n",
       "    }\n",
       "\n",
       "    .dataframe tbody tr th {\n",
       "        vertical-align: top;\n",
       "    }\n",
       "\n",
       "    .dataframe thead th {\n",
       "        text-align: right;\n",
       "    }\n",
       "</style>\n",
       "<table border=\"1\" class=\"dataframe\">\n",
       "  <thead>\n",
       "    <tr style=\"text-align: right;\">\n",
       "      <th></th>\n",
       "      <th>Propertycrime</th>\n",
       "      <th>Population</th>\n",
       "      <th>Murder</th>\n",
       "      <th>Robbery</th>\n",
       "    </tr>\n",
       "  </thead>\n",
       "  <tbody>\n",
       "    <tr>\n",
       "      <th>0</th>\n",
       "      <td>12.000</td>\n",
       "      <td>1861.000</td>\n",
       "      <td>0.000</td>\n",
       "      <td>0.000</td>\n",
       "    </tr>\n",
       "    <tr>\n",
       "      <th>1</th>\n",
       "      <td>24.000</td>\n",
       "      <td>2577.000</td>\n",
       "      <td>0.000</td>\n",
       "      <td>0.000</td>\n",
       "    </tr>\n",
       "    <tr>\n",
       "      <th>2</th>\n",
       "      <td>16.000</td>\n",
       "      <td>2846.000</td>\n",
       "      <td>0.000</td>\n",
       "      <td>0.000</td>\n",
       "    </tr>\n",
       "    <tr>\n",
       "      <th>3</th>\n",
       "      <td>4090.000</td>\n",
       "      <td>97956.000</td>\n",
       "      <td>8.000</td>\n",
       "      <td>227.000</td>\n",
       "    </tr>\n",
       "    <tr>\n",
       "      <th>4</th>\n",
       "      <td>223.000</td>\n",
       "      <td>6388.000</td>\n",
       "      <td>0.000</td>\n",
       "      <td>4.000</td>\n",
       "    </tr>\n",
       "  </tbody>\n",
       "</table>\n",
       "</div>"
      ],
      "text/plain": [
       "   Propertycrime  Population  Murder  Robbery\n",
       "0         12.000    1861.000   0.000    0.000\n",
       "1         24.000    2577.000   0.000    0.000\n",
       "2         16.000    2846.000   0.000    0.000\n",
       "3       4090.000   97956.000   8.000  227.000\n",
       "4        223.000    6388.000   0.000    4.000"
      ]
     },
     "execution_count": 6,
     "metadata": {},
     "output_type": "execute_result"
    }
   ],
   "source": [
    "nycrime_df.head()"
   ]
  },
  {
   "cell_type": "code",
   "execution_count": 7,
   "metadata": {},
   "outputs": [
    {
     "data": {
      "text/html": [
       "<div>\n",
       "<style scoped>\n",
       "    .dataframe tbody tr th:only-of-type {\n",
       "        vertical-align: middle;\n",
       "    }\n",
       "\n",
       "    .dataframe tbody tr th {\n",
       "        vertical-align: top;\n",
       "    }\n",
       "\n",
       "    .dataframe thead th {\n",
       "        text-align: right;\n",
       "    }\n",
       "</style>\n",
       "<table border=\"1\" class=\"dataframe\">\n",
       "  <thead>\n",
       "    <tr style=\"text-align: right;\">\n",
       "      <th></th>\n",
       "      <th>Propertycrime</th>\n",
       "      <th>Population</th>\n",
       "      <th>Murder</th>\n",
       "      <th>Robbery</th>\n",
       "    </tr>\n",
       "  </thead>\n",
       "  <tbody>\n",
       "    <tr>\n",
       "      <th>0</th>\n",
       "      <td>11.000</td>\n",
       "      <td>1851.000</td>\n",
       "      <td>0.000</td>\n",
       "      <td>0.000</td>\n",
       "    </tr>\n",
       "    <tr>\n",
       "      <th>1</th>\n",
       "      <td>49.000</td>\n",
       "      <td>2568.000</td>\n",
       "      <td>0.000</td>\n",
       "      <td>1.000</td>\n",
       "    </tr>\n",
       "    <tr>\n",
       "      <th>2</th>\n",
       "      <td>1.000</td>\n",
       "      <td>820.000</td>\n",
       "      <td>0.000</td>\n",
       "      <td>0.000</td>\n",
       "    </tr>\n",
       "    <tr>\n",
       "      <th>3</th>\n",
       "      <td>17.000</td>\n",
       "      <td>2842.000</td>\n",
       "      <td>0.000</td>\n",
       "      <td>0.000</td>\n",
       "    </tr>\n",
       "    <tr>\n",
       "      <th>4</th>\n",
       "      <td>3888.000</td>\n",
       "      <td>98595.000</td>\n",
       "      <td>8.000</td>\n",
       "      <td>237.000</td>\n",
       "    </tr>\n",
       "  </tbody>\n",
       "</table>\n",
       "</div>"
      ],
      "text/plain": [
       "   Propertycrime  Population  Murder  Robbery\n",
       "0         11.000    1851.000   0.000    0.000\n",
       "1         49.000    2568.000   0.000    1.000\n",
       "2          1.000     820.000   0.000    0.000\n",
       "3         17.000    2842.000   0.000    0.000\n",
       "4       3888.000   98595.000   8.000  237.000"
      ]
     },
     "execution_count": 7,
     "metadata": {},
     "output_type": "execute_result"
    }
   ],
   "source": [
    "nycrime_valid_df.head()"
   ]
  },
  {
   "cell_type": "code",
   "execution_count": 8,
   "metadata": {},
   "outputs": [],
   "source": [
    "nycrime_df['City'] = nycrime['City']\n",
    "nycrime_valid_df['City'] = nycrime_valid['City']"
   ]
  },
  {
   "cell_type": "code",
   "execution_count": 9,
   "metadata": {},
   "outputs": [],
   "source": [
    "nycrime_df['popsq'] = nycrime_df['Population']**2\n",
    "nycrime_df['Robberies'] = np.where(nycrime_df['Robbery']>0,1,0)\n",
    "nycrime_df['Murders'] = np.where(nycrime_df['Murder']>0,1,0)\n",
    "nycrime_df['bigMurder'] = np.where(nycrime_df['Murder']>20,1,0)\n",
    "nycrime_df['bigRob'] = np.where(nycrime_df['Robbery'] > 400,1,0)\n",
    "nycrime_df['midRob'] = np.where((nycrime_df['Robbery'] < 400) & (nycrime_df['Robbery'] > 100),1,0)\n",
    "nycrime_df['lowPop'] = np.where((nycrime_df['Population'] < 150000),1,0)\n",
    "nycrime_df['midMurd'] = np.where((nycrime_df['Murder'] < 15) & (nycrime_df['Murder'] > 5),1,0)\n",
    "nycrime_df['lowPopxmurder'] =nycrime_df[\"lowPop\"]*nycrime_df['Murder']\n",
    "nycrime_df['lowPopxrob'] =nycrime_df[\"lowPop\"]*nycrime_df['Murder']\n",
    "\n",
    "######################################################################3\n",
    "nycrime_valid_df['popsq'] = nycrime_valid_df['Population']**2\n",
    "nycrime_valid_df['Robberies'] = np.where(nycrime_valid_df['Robbery']>0,1,0)\n",
    "nycrime_valid_df['Murders'] = np.where(nycrime_valid_df['Murder']>0,1,0)\n",
    "nycrime_valid_df['bigMurder'] = np.where(nycrime_valid_df['Murder']>20,1,0)\n",
    "nycrime_valid_df['bigRob'] = np.where(nycrime_valid_df['Robbery'] > 400,1,0)\n",
    "nycrime_valid_df['midRob'] = np.where((nycrime_valid_df['Robbery'] < 400) & (nycrime_valid_df['Robbery'] > 100),1,0)\n",
    "nycrime_valid_df['lowPop'] = np.where((nycrime_valid_df['Population'] < 150000),1,0)\n",
    "nycrime_valid_df['midMurd'] = np.where((nycrime_valid_df['Murder'] < 15) & (nycrime_valid_df['Murder'] > 5),1,0)\n",
    "nycrime_valid_df['lowPopxmurder'] =nycrime_valid_df[\"lowPop\"]*nycrime_valid_df['Murder']\n",
    "nycrime_valid_df['lowPopxrob'] =nycrime_valid_df[\"lowPop\"]*nycrime_valid_df['Murder']"
   ]
  },
  {
   "cell_type": "code",
   "execution_count": 10,
   "metadata": {},
   "outputs": [],
   "source": [
    "nycrime_df = nycrime_df[nycrime_df.City != 'New York']"
   ]
  },
  {
   "cell_type": "code",
   "execution_count": 11,
   "metadata": {},
   "outputs": [
    {
     "data": {
      "text/plain": [
       "Propertycrime           135747.000\n",
       "Population             8473938.000\n",
       "Murder                     333.000\n",
       "Robbery                  16581.000\n",
       "City                     New York4\n",
       "popsq           71807625227844.000\n",
       "Robberies                        1\n",
       "Murders                          1\n",
       "bigMurder                        1\n",
       "bigRob                           1\n",
       "midRob                           0\n",
       "lowPop                           0\n",
       "midMurd                          0\n",
       "lowPopxmurder                0.000\n",
       "lowPopxrob                   0.000\n",
       "Name: 227, dtype: object"
      ]
     },
     "execution_count": 11,
     "metadata": {},
     "output_type": "execute_result"
    }
   ],
   "source": [
    "nycrime_valid_df.iloc[227,:]"
   ]
  },
  {
   "cell_type": "code",
   "execution_count": 12,
   "metadata": {},
   "outputs": [],
   "source": [
    "nycrime_valid_df = nycrime_valid_df[nycrime_valid_df.City != 'New York4']"
   ]
  },
  {
   "cell_type": "code",
   "execution_count": 13,
   "metadata": {},
   "outputs": [],
   "source": [
    "formula1 = 'Propertycrime ~ Population + Murder + Robbery + popsq + bigMurder + bigRob + lowPop + midMurd + midRob + Robberies + Murders + lowPopxmurder + lowPopxrob'\n",
    "\n",
    "# Fit the model to our data using the formula.\n",
    "lm = smf.ols(formula=formula1, data=nycrime_df).fit()"
   ]
  },
  {
   "cell_type": "code",
   "execution_count": 14,
   "metadata": {},
   "outputs": [
    {
     "data": {
      "text/plain": [
       "Intercept       -4965.737\n",
       "Population          0.015\n",
       "Murder           -119.204\n",
       "Robbery             3.656\n",
       "popsq               0.000\n",
       "bigMurder        5757.446\n",
       "bigRob           5852.982\n",
       "lowPop           4945.979\n",
       "midMurd          1104.391\n",
       "midRob            805.488\n",
       "Robberies          83.915\n",
       "Murders           227.982\n",
       "lowPopxmurder     -33.660\n",
       "lowPopxrob        -33.660\n",
       "dtype: float64"
      ]
     },
     "execution_count": 14,
     "metadata": {},
     "output_type": "execute_result"
    }
   ],
   "source": [
    "lm.params"
   ]
  },
  {
   "cell_type": "code",
   "execution_count": 15,
   "metadata": {},
   "outputs": [
    {
     "data": {
      "text/plain": [
       "Intercept       0.000\n",
       "Population      0.000\n",
       "Murder          0.355\n",
       "Robbery         0.001\n",
       "popsq           0.072\n",
       "bigMurder       0.000\n",
       "bigRob          0.201\n",
       "lowPop          0.000\n",
       "midMurd         0.000\n",
       "midRob          0.000\n",
       "Robberies       0.002\n",
       "Murders         0.000\n",
       "lowPopxmurder   0.614\n",
       "lowPopxrob      0.614\n",
       "dtype: float64"
      ]
     },
     "execution_count": 15,
     "metadata": {},
     "output_type": "execute_result"
    }
   ],
   "source": [
    "lm.pvalues"
   ]
  },
  {
   "cell_type": "code",
   "execution_count": 16,
   "metadata": {},
   "outputs": [
    {
     "data": {
      "text/plain": [
       "0.9617447843964877"
      ]
     },
     "execution_count": 16,
     "metadata": {},
     "output_type": "execute_result"
    }
   ],
   "source": [
    "lm.rsquared"
   ]
  },
  {
   "cell_type": "markdown",
   "metadata": {},
   "source": [
    "* From the pvalues of the t-tests, we have weak evidence against the null of a zero coefficient for Murder, bigRob, lowPopxmurder, popsq, and lowPopxrob.\n",
    "\n",
    "* This should simplify the regression considerably"
   ]
  },
  {
   "cell_type": "code",
   "execution_count": 17,
   "metadata": {},
   "outputs": [],
   "source": [
    "formula2 = 'Propertycrime ~ Population + Robbery + bigMurder + lowPop + midMurd + midRob + Robberies + Murders' \n",
    "\n",
    "# Fit the model to our data using the formula.\n",
    "lm2 = smf.ols(formula=formula2, data=nycrime_df).fit()"
   ]
  },
  {
   "cell_type": "code",
   "execution_count": 18,
   "metadata": {},
   "outputs": [
    {
     "name": "stdout",
     "output_type": "stream",
     "text": [
      "Intercept    0.000\n",
      "Population   0.000\n",
      "Robbery      0.000\n",
      "bigMurder    0.000\n",
      "lowPop       0.000\n",
      "midMurd      0.235\n",
      "midRob       0.594\n",
      "Robberies    0.014\n",
      "Murders      0.944\n",
      "dtype: float64\n",
      "0.9520022758451617\n"
     ]
    }
   ],
   "source": [
    "print(lm2.pvalues)\n",
    "print(lm2.rsquared)"
   ]
  },
  {
   "cell_type": "markdown",
   "metadata": {},
   "source": [
    "* midMurd, midRob, and Murders are insignificant.\n",
    "\n",
    "* The difference to R^2 is minimal."
   ]
  },
  {
   "cell_type": "code",
   "execution_count": 19,
   "metadata": {},
   "outputs": [],
   "source": [
    "formula3 = 'Propertycrime ~ Population + Robbery + bigMurder + lowPop + Robberies' \n",
    "\n",
    "# Fit the model to our data using the formula.\n",
    "lm3 = smf.ols(formula=formula3, data=nycrime_df).fit()"
   ]
  },
  {
   "cell_type": "code",
   "execution_count": 20,
   "metadata": {},
   "outputs": [
    {
     "name": "stdout",
     "output_type": "stream",
     "text": [
      "Intercept    0.000\n",
      "Population   0.000\n",
      "Robbery      0.000\n",
      "bigMurder    0.000\n",
      "lowPop       0.000\n",
      "Robberies    0.011\n",
      "dtype: float64\n",
      "0.9518015699751828\n"
     ]
    }
   ],
   "source": [
    "print(lm3.pvalues)\n",
    "print(lm3.rsquared)"
   ]
  },
  {
   "cell_type": "markdown",
   "metadata": {},
   "source": [
    "* Very little change in R^2.\n",
    "\n",
    "* Variables that are left are all significant.\n",
    "\n",
    "* Smaller model will probably generalize better to new data."
   ]
  },
  {
   "cell_type": "code",
   "execution_count": 21,
   "metadata": {},
   "outputs": [],
   "source": [
    "from sklearn import linear_model\n",
    "from sklearn import metrics"
   ]
  },
  {
   "cell_type": "code",
   "execution_count": 22,
   "metadata": {},
   "outputs": [
    {
     "name": "stdout",
     "output_type": "stream",
     "text": [
      "\n",
      "Coefficients: \n",
      " [[1.51727729e-02 7.13106735e+00 2.09575272e+03 2.77699095e+03\n",
      "  7.12530373e+01]]\n",
      "\n",
      "Intercept: \n",
      " [-2797.58092978]\n",
      "\n",
      "R-squared:\n",
      "0.9518015699751828\n"
     ]
    }
   ],
   "source": [
    "regr1 = linear_model.LinearRegression()\n",
    "Y1 = nycrime_df['Propertycrime'].values.reshape(-1, 1)\n",
    "X1 = nycrime_df[['Population','Robbery','bigMurder','lowPop','Robberies']]\n",
    "regr1.fit(X1, Y1)\n",
    "\n",
    "# Inspect the results.\n",
    "print('\\nCoefficients: \\n', regr1.coef_)\n",
    "print('\\nIntercept: \\n', regr1.intercept_)\n",
    "print('\\nR-squared:')\n",
    "print(regr1.score(X1, Y1))"
   ]
  },
  {
   "cell_type": "code",
   "execution_count": 23,
   "metadata": {},
   "outputs": [],
   "source": [
    "Y_valid1 = nycrime_valid_df['Propertycrime'].values.reshape(-1, 1)\n",
    "X_valid1 = nycrime_valid_df[['Population','Robbery','bigMurder','lowPop','Robberies']]\n"
   ]
  },
  {
   "cell_type": "code",
   "execution_count": 24,
   "metadata": {},
   "outputs": [
    {
     "name": "stdout",
     "output_type": "stream",
     "text": [
      "\n",
      "R-squared:\n",
      "0.939108765149033\n"
     ]
    }
   ],
   "source": [
    "regr1.score(X_valid1,Y_valid1)\n",
    "\n",
    "# Inspect the results.\n",
    "\n",
    "print('\\nR-squared:')\n",
    "print(regr1.score(X_valid1, Y_valid1))"
   ]
  },
  {
   "cell_type": "markdown",
   "metadata": {},
   "source": [
    "* Very strong evidence this is a good model for New York State property crime prediction.\n",
    "\n",
    "* The model fit on 2013 data has almost the same R squared on 2014 data.\n",
    "\n",
    "* Just to be sure lets go the other way around.\n",
    "\n",
    "* Fit model on 2014 data and evaluate on 2013."
   ]
  },
  {
   "cell_type": "code",
   "execution_count": 25,
   "metadata": {},
   "outputs": [
    {
     "name": "stdout",
     "output_type": "stream",
     "text": [
      "\n",
      "Coefficients: \n",
      " [[1.74411343e-02 6.01456619e+00 4.26853533e+03 3.63882820e+03\n",
      "  2.87061616e+01]]\n",
      "\n",
      "Intercept: \n",
      " [-3672.03098254]\n",
      "\n",
      "R-squared:\n"
     ]
    },
    {
     "data": {
      "text/plain": [
       "0.9358168551285451"
      ]
     },
     "execution_count": 25,
     "metadata": {},
     "output_type": "execute_result"
    }
   ],
   "source": [
    "regr2 = linear_model.LinearRegression()\n",
    "Y1 = nycrime_df['Propertycrime'].values.reshape(-1, 1)\n",
    "X1 = nycrime_df[['Population','Robbery','bigMurder','lowPop','Robberies']]\n",
    "regr2.fit(X_valid1, Y_valid1)\n",
    "\n",
    "\n",
    "\n",
    "# Inspect the results.\n",
    "# Inspect the results.\n",
    "print('\\nCoefficients: \\n', regr2.coef_)\n",
    "print('\\nIntercept: \\n', regr2.intercept_)\n",
    "print('\\nR-squared:')\n",
    "regr2.score(X1,Y1)"
   ]
  },
  {
   "cell_type": "markdown",
   "metadata": {},
   "source": [
    "* Excellent results! Almost the same as before.\n",
    "\n",
    "* We have shown that our smaller model without insignificant coefficients is robust and still fits well.\n",
    "\n",
    "* The model fit on one year can fit out-of-sample on another years data almost as well as in sample results."
   ]
  },
  {
   "cell_type": "code",
   "execution_count": null,
   "metadata": {},
   "outputs": [],
   "source": [
    "# Use train_test_split to create the necessary training and test groups\n",
    "X_train, X_test, y_train, y_test = train_test_split(data, target, test_size=0.2, random_state=20)"
   ]
  },
  {
   "cell_type": "code",
   "execution_count": null,
   "metadata": {},
   "outputs": [],
   "source": [
    "cv = 10 # number of folds\n",
    "n = int(len(data) / cv)\n",
    "#print(len(data))\n",
    "#print(n)\n",
    "# Now loop through the chunks\n",
    "results = []\n",
    "for i in range(0,int(len(data)/n)):\n",
    "    #print(i)\n",
    "    ind = list(range(i,i+n))\n",
    "    #print(ind)\n",
    "    data_testfold = data.iloc[ind]\n",
    "    data_trainfolds = data.iloc[~data.index.isin(ind)]\n",
    "    target_testfold = target.iloc[ind]\n",
    "    target_trainfolds = target.iloc[~target.index.isin(ind)]\n",
    "    bnbcv = BernoulliNB()\n",
    "    y_pred_cv = bnbcv.fit(data_trainfolds, target_trainfolds).predict(data_testfold)\n",
    "    num_data = data_testfold.shape[0]\n",
    "    correct = (num_data - (target_testfold != y_pred_cv).sum())/num_data * 100\n",
    "    results.append(correct)\n",
    "print(results)"
   ]
  }
 ],
 "metadata": {
  "kernelspec": {
   "display_name": "Python 3",
   "language": "python",
   "name": "python3"
  },
  "language_info": {
   "codemirror_mode": {
    "name": "ipython",
    "version": 3
   },
   "file_extension": ".py",
   "mimetype": "text/x-python",
   "name": "python",
   "nbconvert_exporter": "python",
   "pygments_lexer": "ipython3",
   "version": "3.6.4"
  }
 },
 "nbformat": 4,
 "nbformat_minor": 2
}
